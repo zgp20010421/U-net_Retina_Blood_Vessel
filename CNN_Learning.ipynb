{
 "cells": [
  {
   "cell_type": "markdown",
   "id": "609f9e70",
   "metadata": {},
   "source": [
    "# CNN学习"
   ]
  },
  {
   "cell_type": "markdown",
   "id": "14c2687c",
   "metadata": {},
   "source": [
    "# Max Pooling-增强特征，减少数据"
   ]
  },
  {
   "cell_type": "code",
   "execution_count": 1,
   "id": "24a1e247",
   "metadata": {},
   "outputs": [
    {
     "name": "stdout",
     "output_type": "stream",
     "text": [
      "2.10.0\n",
      "Epoch 1/5\n",
      "1875/1875 [==============================] - 6s 2ms/step - loss: 0.5047 - accuracy: 0.8244\n",
      "Epoch 2/5\n",
      "1875/1875 [==============================] - 5s 2ms/step - loss: 0.3792 - accuracy: 0.8638\n",
      "Epoch 3/5\n",
      "1875/1875 [==============================] - 5s 3ms/step - loss: 0.3393 - accuracy: 0.8766\n",
      "Epoch 4/5\n",
      "1875/1875 [==============================] - 5s 3ms/step - loss: 0.3126 - accuracy: 0.8861\n",
      "Epoch 5/5\n",
      "1875/1875 [==============================] - 5s 3ms/step - loss: 0.2965 - accuracy: 0.8903\n",
      "313/313 [==============================] - 1s 3ms/step - loss: 0.3440 - accuracy: 0.8754\n"
     ]
    }
   ],
   "source": [
    "import tensorflow as tf\n",
    "print(tf.__version__)\n",
    "\n",
    "mnist = tf.keras.datasets.fashion_mnist\n",
    "(train_images,train_labels),(test_images,test_labels) = mnist.load_data()\n",
    "\n",
    "# 归一化\n",
    "train_images = train_images/255\n",
    "test_images = test_images/255\n",
    "\n",
    "model = tf.keras.models.Sequential()\n",
    "model.add(tf.keras.layers.Flatten())\n",
    "model.add(tf.keras.layers.Dense(128,activation=tf.nn.relu))\n",
    "model.add(tf.keras.layers.Dense(10,activation=tf.nn.softmax))\n",
    "\n",
    "model.compile(optimizer='adam',\n",
    "              loss=tf.losses.sparse_categorical_crossentropy,\n",
    "             metrics=['accuracy'])\n",
    "model.fit(train_images,train_labels,epochs=5)\n",
    "test_loss = model.evaluate(test_images,test_labels)"
   ]
  },
  {
   "cell_type": "code",
   "execution_count": 2,
   "id": "91a07e7d",
   "metadata": {},
   "outputs": [
    {
     "name": "stdout",
     "output_type": "stream",
     "text": [
      "2.10.0\n",
      "Epoch 1/5\n",
      "1875/1875 [==============================] - 10s 4ms/step - loss: 0.4308 - accuracy: 0.8437\n",
      "Epoch 2/5\n",
      "1875/1875 [==============================] - 7s 4ms/step - loss: 0.2909 - accuracy: 0.8924\n",
      "Epoch 3/5\n",
      "1875/1875 [==============================] - 7s 4ms/step - loss: 0.2456 - accuracy: 0.9100\n",
      "Epoch 4/5\n",
      "1875/1875 [==============================] - 7s 4ms/step - loss: 0.2158 - accuracy: 0.9189\n",
      "Epoch 5/5\n",
      "1875/1875 [==============================] - 7s 4ms/step - loss: 0.1864 - accuracy: 0.9299\n",
      "313/313 [==============================] - 1s 3ms/step - loss: 0.2672 - accuracy: 0.9075\n",
      "Model: \"sequential_1\"\n",
      "_________________________________________________________________\n",
      " Layer (type)                Output Shape              Param #   \n",
      "=================================================================\n",
      " conv2d (Conv2D)             (None, 26, 26, 64)        640       \n",
      "                                                                 \n",
      " max_pooling2d (MaxPooling2D  (None, 13, 13, 64)       0         \n",
      " )                                                               \n",
      "                                                                 \n",
      " conv2d_1 (Conv2D)           (None, 11, 11, 64)        36928     \n",
      "                                                                 \n",
      " max_pooling2d_1 (MaxPooling  (None, 5, 5, 64)         0         \n",
      " 2D)                                                             \n",
      "                                                                 \n",
      " flatten_1 (Flatten)         (None, 1600)              0         \n",
      "                                                                 \n",
      " dense_2 (Dense)             (None, 128)               204928    \n",
      "                                                                 \n",
      " dense_3 (Dense)             (None, 10)                1290      \n",
      "                                                                 \n",
      "=================================================================\n",
      "Total params: 243,786\n",
      "Trainable params: 243,786\n",
      "Non-trainable params: 0\n",
      "_________________________________________________________________\n"
     ]
    }
   ],
   "source": [
    "import tensorflow as tf\n",
    "print(tf.__version__)\n",
    "\n",
    "mnist = tf.keras.datasets.fashion_mnist\n",
    "(train_images,train_labels),(test_images,test_labels) = mnist.load_data()\n",
    "\n",
    "# 归一化\n",
    "train_images = train_images/255\n",
    "test_images = test_images/255\n",
    "\n",
    "model = tf.keras.models.Sequential()\n",
    "\n",
    "# 增加四层卷积神经网络\n",
    "model.add(tf.keras.layers.Conv2D(64,(3,3),\n",
    "                          activation=tf.nn.relu,\n",
    "                         input_shape=(28,28,1)))\n",
    "model.add(tf.keras.layers.MaxPooling2D(2,2))\n",
    "model.add(tf.keras.layers.Conv2D(64,(3,3),\n",
    "                          activation=tf.nn.relu))\n",
    "model.add(tf.keras.layers.MaxPooling2D(2,2))\n",
    "\n",
    "model.add(tf.keras.layers.Flatten())\n",
    "model.add(tf.keras.layers.Dense(128,activation=tf.nn.relu))\n",
    "model.add(tf.keras.layers.Dense(10,activation=tf.nn.softmax))\n",
    "\n",
    "model.compile(optimizer='adam',\n",
    "              loss=tf.losses.sparse_categorical_crossentropy,\n",
    "             metrics=['accuracy'])\n",
    "model.fit(train_images,train_labels,epochs=5)\n",
    "test_loss = model.evaluate(test_images,test_labels)\n",
    "\n",
    "model.summary()"
   ]
  },
  {
   "cell_type": "markdown",
   "id": "c5f87c4a",
   "metadata": {},
   "source": [
    "# 训练模型回调函数（达到一个期望值的时候停止训练）"
   ]
  },
  {
   "cell_type": "code",
   "execution_count": 2,
   "id": "ef8a6770",
   "metadata": {},
   "outputs": [
    {
     "name": "stdout",
     "output_type": "stream",
     "text": [
      "2.9.0\n",
      "Epoch 1/5\n",
      "1875/1875 [==============================] - 9s 4ms/step - loss: 0.4742 - accuracy: 0.8282\n",
      "Epoch 2/5\n",
      "1862/1875 [============================>.] - ETA: 0s - loss: 0.3194 - accuracy: 0.8834\n",
      "Reached 60% accuracy so canclling training!\n",
      "1875/1875 [==============================] - 7s 4ms/step - loss: 0.3190 - accuracy: 0.8834\n",
      "313/313 [==============================] - 1s 3ms/step - loss: 0.3257 - accuracy: 0.8804\n",
      "Model: \"sequential\"\n",
      "_________________________________________________________________\n",
      " Layer (type)                Output Shape              Param #   \n",
      "=================================================================\n",
      " conv2d (Conv2D)             (None, 26, 26, 32)        320       \n",
      "                                                                 \n",
      " max_pooling2d (MaxPooling2D  (None, 13, 13, 32)       0         \n",
      " )                                                               \n",
      "                                                                 \n",
      " conv2d_1 (Conv2D)           (None, 11, 11, 32)        9248      \n",
      "                                                                 \n",
      " max_pooling2d_1 (MaxPooling  (None, 5, 5, 32)         0         \n",
      " 2D)                                                             \n",
      "                                                                 \n",
      " flatten (Flatten)           (None, 800)               0         \n",
      "                                                                 \n",
      " dense (Dense)               (None, 128)               102528    \n",
      "                                                                 \n",
      " dense_1 (Dense)             (None, 10)                1290      \n",
      "                                                                 \n",
      "=================================================================\n",
      "Total params: 113,386\n",
      "Trainable params: 113,386\n",
      "Non-trainable params: 0\n",
      "_________________________________________________________________\n"
     ]
    }
   ],
   "source": [
    "import tensorflow as tf\n",
    "print(tf.__version__)\n",
    "\n",
    "class myCallback(tf.keras.callbacks.Callback):\n",
    "    def on_epoch_end(self,epoch,logs={}):\n",
    "        if(logs.get('loss')<0.4):\n",
    "            print(\"\\nReached 60% accuracy so canclling training!\")\n",
    "            self.model.stop_training = True\n",
    "\n",
    "callbacks = myCallback()\n",
    "\n",
    "#加载数据集\n",
    "mnist = tf.keras.datasets.fashion_mnist\n",
    "(train_images,train_labels),(test_images,test_labels) = mnist.load_data()\n",
    "\n",
    "# 归一化\n",
    "train_images = train_images/255\n",
    "test_images = test_images/255\n",
    "\n",
    "model = tf.keras.models.Sequential()\n",
    "\n",
    "# 增加四层卷积神经网络\n",
    "model.add(tf.keras.layers.Conv2D(32,(3,3),\n",
    "                          activation=tf.nn.relu,\n",
    "                         input_shape=(28,28,1)))\n",
    "model.add(tf.keras.layers.MaxPooling2D(2,2))\n",
    "model.add(tf.keras.layers.Conv2D(32,(3,3),\n",
    "                          activation=tf.nn.relu))\n",
    "model.add(tf.keras.layers.MaxPooling2D(2,2))\n",
    "\n",
    "model.add(tf.keras.layers.Flatten())\n",
    "model.add(tf.keras.layers.Dense(128,activation=tf.nn.relu))\n",
    "model.add(tf.keras.layers.Dense(10,activation=tf.nn.softmax))\n",
    "\n",
    "model.compile(optimizer='adam',\n",
    "              loss=tf.losses.sparse_categorical_crossentropy,\n",
    "             metrics=['accuracy'])\n",
    "model.fit(train_images,train_labels,epochs=5,callbacks=[callbacks])\n",
    "test_loss = model.evaluate(test_images,test_labels)\n",
    "\n",
    "model.summary()\n"
   ]
  },
  {
   "cell_type": "code",
   "execution_count": null,
   "id": "a8edc9f6",
   "metadata": {},
   "outputs": [],
   "source": []
  }
 ],
 "metadata": {
  "kernelspec": {
   "display_name": "tfod",
   "language": "python",
   "name": "tfod"
  },
  "language_info": {
   "codemirror_mode": {
    "name": "ipython",
    "version": 3
   },
   "file_extension": ".py",
   "mimetype": "text/x-python",
   "name": "python",
   "nbconvert_exporter": "python",
   "pygments_lexer": "ipython3",
   "version": "3.9.6"
  }
 },
 "nbformat": 4,
 "nbformat_minor": 5
}
